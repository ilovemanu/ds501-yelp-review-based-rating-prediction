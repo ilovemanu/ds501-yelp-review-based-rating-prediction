{
 "cells": [
  {
   "cell_type": "markdown",
   "metadata": {},
   "source": [
    "# Case Study 2 : Data Science in Yelp Data"
   ]
  },
  {
   "cell_type": "markdown",
   "metadata": {},
   "source": [
    "**Required Readings:** \n",
    "* [Yelp Dataset Challenge](https://www.yelp.com/dataset_challenge) \n",
    "* Please download the Yelp dataset from the above webpage.\n",
    "* [TED Talks](https://www.ted.com/talks) for examples of 10 minutes talks.\n",
    "\n",
    "\n",
    "** NOTE **\n",
    "* Please don't forget to save the notebook frequently when working in Jupyter Notebook, otherwise the changes you made can be lost.\n",
    "\n",
    "*----------------------\n",
    "\n",
    "Here is an example of the data format. More details are included [here](https://www.yelp.com/dataset_challenge)\n",
    "\n",
    "## Business Objects\n",
    "\n",
    "Business objects contain basic information about local businesses. The fields are as follows:\n",
    "\n",
    "```json\n",
    "{\n",
    "  'type': 'business',\n",
    "  'business_id': (a unique identifier for this business),\n",
    "  'name': (the full business name),\n",
    "  'neighborhoods': (a list of neighborhood names, might be empty),\n",
    "  'full_address': (localized address),\n",
    "  'city': (city),\n",
    "  'state': (state),\n",
    "  'latitude': (latitude),\n",
    "  'longitude': (longitude),\n",
    "  'stars': (star rating, rounded to half-stars),\n",
    "  'review_count': (review count),\n",
    "  'photo_url': (photo url),\n",
    "  'categories': [(localized category names)]\n",
    "  'open': (is the business still open for business?),\n",
    "  'schools': (nearby universities),\n",
    "  'url': (yelp url)\n",
    "}\n",
    "```\n",
    "## Checkin Objects\n",
    "```json\n",
    "{\n",
    "    'type': 'checkin',\n",
    "    'business_id': (encrypted business id),\n",
    "    'checkin_info': {\n",
    "        '0-0': (number of checkins from 00:00 to 01:00 on all Sundays),\n",
    "        '1-0': (number of checkins from 01:00 to 02:00 on all Sundays),\n",
    "        ...\n",
    "        '14-4': (number of checkins from 14:00 to 15:00 on all Thursdays),\n",
    "        ...\n",
    "        '23-6': (number of checkins from 23:00 to 00:00 on all Saturdays)\n",
    "    }, # if there was no checkin for a hour-day block it will not be in the dict\n",
    "}\n",
    "```"
   ]
  },
  {
   "cell_type": "markdown",
   "metadata": {},
   "source": [
    "# Problem: pick a data science problem that you plan to solve using Yelp Data\n",
    "* The problem should be important and interesting, which has a potential impact in some area.\n",
    "* The problem should be solvable using yelp data and data science solutions.\n",
    "\n",
    "Please briefly describe in the following cell: what problem are you trying to solve? why this problem is important and interesting?"
   ]
  },
  {
   "cell_type": "markdown",
   "metadata": {
    "collapsed": true
   },
   "source": [
    "Yelp as a review website, allows users to review and rate various business objects and significantly influences consumers' behaviors. We plan to use the reviews on Yelp to predict users' star ratings for business objects. In a world of technology, where we currently face an information overloading problem, it is important that we mine valueable information such as user preferences from reviews, to provide more accurate recommendations. In this notebook, we only focus on predicting the rating based on the review text, and other user-related attributes given to us.\n",
    "\n",
    "We will consider this as a regression problem, and compare the results for various methods. We build 3 (Ordinary Least Squares, Lasso, Polynomial Regression) different prediction models using 9 predictors and analyze the performance of each model to find the best model for predicting.\n",
    "\n",
    "\n",
    "\n",
    "\n",
    "\n",
    "\n",
    "\n",
    "\n",
    "\n",
    "\n",
    "\n",
    "\n",
    "\n",
    "\n",
    "\n",
    "\n",
    "\n",
    "\n",
    "\n",
    "\n",
    "\n",
    "\n"
   ]
  },
  {
   "cell_type": "markdown",
   "metadata": {},
   "source": [
    "# Data Collection/Processing: "
   ]
  },
  {
   "cell_type": "markdown",
   "metadata": {},
   "source": [
    "We load the following datasets for specific tasks:\n",
    "* Business Data - Contains information related to each business listed on Yelp such as location, name, rating, additional attributes (Parking availability, Takeout), and hours of operation. We use this for data exploration tasks 1 and 2, and for our main problem.\n",
    "\n",
    "\n",
    "* Checkin Data - Contains information related to checkins made by users at different times, and related frequencies. We need this for data exploration task 1.\n",
    "\n",
    "\n",
    "* Review Data - Contains full text reviews by different users for specific businesses, and review related ratings. We need this for our main problem, to extract text related sentiment metrics.\n",
    "\n",
    "\n",
    "* User Data - Contains user related data, such as friend mapping, and user-related ratings. The user-related ratings can have a major impact on discerning a that user's ratings for different restaurants. These user-related metrics indicate how funny, useful or cool this user's ratings are overall."
   ]
  },
  {
   "cell_type": "code",
   "execution_count": null,
   "metadata": {
    "collapsed": true
   },
   "outputs": [],
   "source": [
    "#----------------------------------------------\n",
    "# Your code starts here\n",
    "#   Please add comments or text cells in between to explain the general idea of each block of the code.\n",
    "#   Please feel free to add more cells below this cell if necessary\n",
    "\n",
    "import json\n",
    "from collections import Counter\n",
    "import operator\n",
    "from pandas.io.json import json_normalize\n",
    "import numpy as np\n",
    "import pandas as pd\n",
    "\n",
    "# load busdata\n",
    "def loadbus():\n",
    "    busdata = []\n",
    "    file = open('business.json', 'r') #{}{}{}...\n",
    "    for line in file.readlines():\n",
    "        busdata.append(json.loads(line))\n",
    "    return busdata\n",
    "\n",
    "# load checkin data\n",
    "def loadcheckin():\n",
    "    checkindata = []\n",
    "    file = open('checkin.json', 'r')\n",
    "    for line in file.readlines():\n",
    "        checkindata.append(json.loads(line))\n",
    "    return checkindata\n",
    "#print checkindata[0]#len(checkindata)\n",
    "\n",
    "# load review data\n",
    "def loadreview():\n",
    "    reviewdata = []\n",
    "    file = open('review.json', 'r')\n",
    "    for line in file.readlines():\n",
    "        reviewdata.append(json.loads(line))\n",
    "    return reviewdata\n",
    "\n",
    "# load user data\n",
    "def loaduser():\n",
    "    userdata = []\n",
    "    file = open('user.json', 'r')\n",
    "    for line in file.readlines():\n",
    "        userdata.append(json.loads(line))\n",
    "    return userdata\n",
    "\n",
    "busdata = loadbus()\n",
    "checkindata = loadcheckin()\n",
    "reviewdata = loadreview()\n",
    "userdata = loaduser()"
   ]
  },
  {
   "cell_type": "markdown",
   "metadata": {},
   "source": [
    "We need to merge all these different, related data, into one dataframe to allow processing on the data. We make use of 'Pandas' to do the same, where we use inner joins based on the User-IDs and Business-IDs. \n",
    "\n",
    "Note:  Running the following un-commented code-blocks takes a lot of time due to the sheer size of the data. Hence, we just consider businesses in Illinois. If you want to experiment further, we have attached a .csv file for all the merged data 'IL_new.csv'"
   ]
  },
  {
   "cell_type": "code",
   "execution_count": null,
   "metadata": {
    "collapsed": true
   },
   "outputs": [],
   "source": [
    "# merge useful data into a dataframe: ################################################################\n",
    "# columns: busid, text, funny, useful, cool, stars, userid, fans, user_useful, user_cool, user_funny\n",
    "# output as dfComplete.csv file\n",
    "\n",
    "# def mergedata():\n",
    "\n",
    "#     # busid, cool, funny, review_id, stars, text, useful, user_id\n",
    "#     dfreview = json_normalize(reviewdata).drop(['date', 'review_id'] ,1)\n",
    "#     # user_id, fans, user_funny, user_useful, user_cool\n",
    "#     dfuser = json_normalize(userdata)[['user_id', 'fans', 'cool', 'funny', 'useful']]\n",
    "#     dfuser = dfuser.rename(columns={'cool':'user_cool', 'funny': 'user_funny', 'useful': 'user_useful'})\n",
    "    \n",
    "#     # merge dfreview and dfuser on user_id\n",
    "#     dfmerge = pd.merge(dfreview, dfuser, on='user_id', how='inner')\n",
    "    \n",
    "#     # write data to csv\n",
    "#     dfmerge.to_csv('dfComplete.csv', encoding='utf-8') # complete data\n",
    "\n",
    "# mergedata()\n",
    "\n",
    "# extract state=IL specific data ~36000 records ################################################\n",
    "# convert busdata to dataframe\n",
    "# df = json_normalize(busdata)\n",
    "# # load dfComplete.csc file\n",
    "# types_dict = {'funny': 'int64',\n",
    "#               'Unnamed: 0': 'O',\n",
    "#               'user_cool': 'float64',\n",
    "#               'user_id': 'O',\n",
    "#               'text': 'O',\n",
    "#               'business_id': 'O',\n",
    "#               'user_funny': 'float64',\n",
    "#               'user_useful': 'float64',\n",
    "#               'fans': 'float64',\n",
    "#               'stars': 'int64',\n",
    "#               'useful': 'float64',\n",
    "#               'cool': 'O'}\n",
    "# data = pd.read_csv('dfComplete.csv', dtype=types_dict, low_memory=True)\n",
    "# # extract business_id data and combine with state data\n",
    "# busid = pd.DataFrame(data=data['business_id'])\n",
    "# idstate = pd.merge(busid, df[['business_id', 'state']], on='business_id', how='inner')\n",
    "# # extract IL-specific data from the dfComplete file\n",
    "# ILid = idstate[idstate['state'] == 'IL']['business_id'].tolist()\n",
    "# ILdf = data[data['business_id'].isin(ILid)].drop(['business_id', 'user_id'], axis=1)\n",
    "# #ILdf.to_csv('IL.csv', encoding='utf-8', index=False)"
   ]
  },
  {
   "cell_type": "markdown",
   "metadata": {},
   "source": [
    "Every row of the dataframe now consists of the following - Business ID, User ID, Business-related metrics (our response variable being the number of stars this business has), User-related metrics (how funny, cool, and useful the user's reviews are overall), review by that user for that specific restaurant, stars given by that user supporting the review, for the restaurant. \n",
    "\n",
    "The text to us in its raw form is not of much use for machine learning algorithms. So we make use of TextBlob to find sentiment scores for each of the reviews, specifically - Sentiment Polarity (How positive or negative the review is?) and Subjectivity (How much is it based on the user's personal feelings?)\n",
    "\n",
    "Note: The following code block also takes a lot of time to run. If you want to experiment with the data or test the following code block, consider looking at the .csv file 'IL_new.csv', which has been provided along with this notebook"
   ]
  },
  {
   "cell_type": "code",
   "execution_count": null,
   "metadata": {
    "collapsed": true
   },
   "outputs": [],
   "source": [
    "# sentiment analysis on reviews ###############################################################\n",
    "\n",
    "# import numpy as np\n",
    "# import pandas as pd\n",
    "# from textblob import TextBlob\n",
    "\n",
    "\n",
    "# def sentiment_score(filename = 'IL.csv'):\n",
    "#\n",
    "#     # load the csv file containing the combined dataframe\n",
    "#     raw_data = pd.read_csv(filename, low_memory = True)\n",
    "#\n",
    "#     raw_text = []\n",
    "#     text_pol = []\n",
    "#     text_sub = []\n",
    "#\n",
    "#     for i in range(len(raw_data['text'])):\n",
    "#         raw_text.append(raw_data['text'][i])\n",
    "#\n",
    "#     # to handle the error when the scripts' cods is not in utf-8 format\n",
    "#     for k in range(len(raw_text)):\n",
    "#         raw_text[k] = raw_text[k].decode('utf-8','ignore')\n",
    "#\n",
    "#     # compute polarity and subjectivity scores\n",
    "#     for j in range(len(raw_data['text'])):\n",
    "#         text_pol.append(TextBlob(raw_text[j]).sentiment.polarity)\n",
    "#         text_sub.append(TextBlob(raw_text[j]).sentiment.subjectivity)\n",
    "#\n",
    "#     # add the two scores to the dataframe and export as csv\n",
    "#     #dataframe = pd.DataFrame({'polarity':text_pol,'subjectivity':text_sub})\n",
    "#     raw_data = raw_data.drop(['text','Unnamed: 0','Unnamed: 0.1'], axis = 1)\n",
    "#     raw_data['polarity'] = pd.Series(data = text_pol)\n",
    "#     raw_data['subjectivity'] = pd.Series(data = text_sub)\n",
    "#     raw_data.to_csv(\"IL_new.csv\", index = False, sep = ',')\n",
    "#\n",
    "# sentiment_score()"
   ]
  },
  {
   "cell_type": "markdown",
   "metadata": {},
   "source": [
    "# Data Exploration: Exploring the Yelp Dataset\n",
    "\n",
    "**(1) Finding the most popular business categories:** \n",
    "* print the top 10 most popular business categories in the dataset and their counts (i.e., how many business objects in each category). Here we say a category is \"popular\" if there are many business objects in this category (such as 'restaurants')."
   ]
  },
  {
   "cell_type": "code",
   "execution_count": 3,
   "metadata": {},
   "outputs": [
    {
     "name": "stdout",
     "output_type": "stream",
     "text": [
      "54618 Restaurants\n",
      "27971 Shopping\n",
      "24777 Food\n",
      "17014 Beauty & Spas\n",
      "16205 Home Services\n",
      "14230 Health & Medical\n",
      "12154 Nightlife\n",
      "11232 Local Services\n",
      "11052 Automotive\n",
      "10563 Bars\n"
     ]
    }
   ],
   "source": [
    "# Your code starts here\n",
    "#   Please add comments or text cells in between to explain the general idea of each block of the code.\n",
    "#   Please feel free to add more cells below this cell if necessary\n",
    "\n",
    "def catCounter():\n",
    "    cat = [d['categories'] for d in busdata]\n",
    "    cat = reduce(operator.add, cat)\n",
    "    counted = Counter(cat).most_common()[0:10]\n",
    "    for x,y in counted:\n",
    "        print y, x\n",
    "        \n",
    "catCounter()\n"
   ]
  },
  {
   "cell_type": "markdown",
   "metadata": {},
   "source": [
    "** (2) Find the most popular business objects** \n",
    "* print the top 10 most popular business objects in the dataset and their counts (i.e., how many checkins in total for each business object).  Here we say a business object is \"popular\" if the business object attracts a large number of checkins from the users."
   ]
  },
  {
   "cell_type": "code",
   "execution_count": 12,
   "metadata": {},
   "outputs": [
    {
     "name": "stdout",
     "output_type": "stream",
     "text": [
      "                                        name         city state     category\n",
      "checkin                                                                     \n",
      "129                  Avon Lake Animal Clinic    Avon Lake    OH         Pets\n",
      "129               Athena's Deli & Restaurant    Avon Lake    OH  Restaurants\n",
      "129                             Pizza Cutter    Avon Lake    OH  Restaurants\n",
      "129                              Dairy Queen    Avon Lake    OH      Burgers\n",
      "129                     Sweetbriar Golf Club    Avon Lake    OH         Golf\n",
      "129                               Fratello's    Avon Lake    OH         Bars\n",
      "129                               Geppetto's    Avon Lake    OH  Restaurants\n",
      "129                              Giant Eagle    Avon Lake    OH   Drugstores\n",
      "129                                 QuikTrip    Charlotte    NC   Automotive\n",
      "129      Applebee's Neighborhood Grill & Bar  Rocky River    OH      Burgers\n"
     ]
    }
   ],
   "source": [
    "# Your code starts here\n",
    "#   Please add comments or text cells in between to explain the general idea of each block of the code.\n",
    "#   Please feel free to add more cells below this cell if necessary\n",
    "\n",
    "from pandas.io.json import json_normalize\n",
    "\n",
    "def checkinCounter():\n",
    "    \n",
    "    collection = []\n",
    "    \n",
    "    # count weekly checkin for each business object\n",
    "    for bo in checkindata:\n",
    "        count = 0\n",
    "        for day in bo['time']:\n",
    "            for hour in checkindata[0]['time'][day]:\n",
    "                count += checkindata[0]['time'][day][hour]\n",
    "        collection.append((count, bo['business_id']))\n",
    "        \n",
    "    # sort a list of tuples by count and extract ids\n",
    "    bolist = [y for (x,y) in sorted(collection, key=lambda x: x[0], reverse=True)[0:10]]\n",
    "    \n",
    "    # find bo.json for each bo\n",
    "    boinfo = [b for b in busdata if b['business_id'] in bolist]\n",
    "            \n",
    "    # make a dataframe to show info\n",
    "    df = json_normalize(boinfo)[['name', 'city', 'state']]\n",
    "    df['category'] = [b['categories'][0] for b in boinfo]\n",
    "    df['checkin'] = [x for (x,y) in sorted(collection, key=lambda x: x[0], reverse=True)[0:10]]\n",
    "    \n",
    "    print df.set_index('checkin')\n",
    "    \n",
    "checkinCounter()"
   ]
  },
  {
   "cell_type": "markdown",
   "metadata": {},
   "source": [
    "# The Solution: implement a data science solution to the problem you are trying to solve."
   ]
  },
  {
   "cell_type": "markdown",
   "metadata": {},
   "source": [
    "Briefly describe the idea of your solution to the problem in the following cell:"
   ]
  },
  {
   "cell_type": "markdown",
   "metadata": {
    "collapsed": true
   },
   "source": [
    "As mentioned earlier, we will now use the merged data that we obtained from the above steps, by importing the data in 'IL_new.csv'. We will first consider the following regression-based models to predict the rating:\n",
    "\n",
    "* Ordinary Least Squares\n",
    "* Lasso\n",
    "* Polynomial Regression\n"
   ]
  },
  {
   "cell_type": "markdown",
   "metadata": {},
   "source": [
    "Write codes to implement the solution in python:"
   ]
  },
  {
   "cell_type": "code",
   "execution_count": 1,
   "metadata": {},
   "outputs": [
    {
     "data": {
      "text/plain": [
       "36467"
      ]
     },
     "execution_count": 1,
     "metadata": {},
     "output_type": "execute_result"
    }
   ],
   "source": [
    "import pandas as pd\n",
    "illinois_data = pd.read_csv(\"IL_new.csv\")\n",
    "len(illinois_data)"
   ]
  },
  {
   "cell_type": "markdown",
   "metadata": {},
   "source": [
    "We will now see the number of ratings we have for each class/number of stars to check if there is any imbalance."
   ]
  },
  {
   "cell_type": "code",
   "execution_count": 5,
   "metadata": {},
   "outputs": [],
   "source": [
    "from collections import Counter\n",
    "Ratings_Counts = Counter(illinois_data['stars'])\n"
   ]
  },
  {
   "cell_type": "code",
   "execution_count": 23,
   "metadata": {},
   "outputs": [
    {
     "data": {
      "image/png": "[encoded data removed]",
      "text/plain": [
       "<matplotlib.figure.Figure at 0x112ef828>"
      ]
     },
     "metadata": {},
     "output_type": "display_data"
    }
   ],
   "source": [
    "#!pip install seaborn\n",
    "import seaborn as sns\n",
    "import matplotlib.pyplot as plt\n",
    "total = float(len(illinois_data))\n",
    "sns.set(font_scale = 1.3)\n",
    "ax = sns.countplot(x=\"stars\",data=illinois_data)\n",
    "for p in ax.patches:\n",
    "    height = p.get_height()\n",
    "    ax.text(p.get_x()+p.get_width()/2.,\n",
    "            height + 100,\n",
    "            '{:1.2f}%'.format(height*100/total),\n",
    "            ha=\"center\")\n",
    "plt.show()"
   ]
  },
  {
   "cell_type": "markdown",
   "metadata": {},
   "source": [
    "As you can see, there is a severe class imbalance. We can sample this data further to make sure that each class/rating is represented by an equal number of data instances. We sample 3500 reviews for each rating (1,2,3,4,5) as can be seen below."
   ]
  },
  {
   "cell_type": "code",
   "execution_count": 25,
   "metadata": {
    "collapsed": true
   },
   "outputs": [],
   "source": [
    "#Balanced by Class (3500 instances for each rating)\n",
    "\n",
    "df = illinois_data.query('stars == 5').sample(3500)\n",
    "df = df.append([illinois_data.query('stars == 4').sample(3500),illinois_data.query('stars == 3').sample(3500),illinois_data.query('stars == 2').sample(3500),illinois_data.query('stars == 1').sample(3500)])\n",
    "df = df.sample(frac=1).reset_index(drop=True)"
   ]
  },
  {
   "cell_type": "code",
   "execution_count": 26,
   "metadata": {},
   "outputs": [
    {
     "data": {
      "image/png": "[encoded data removed]",
      "text/plain": [
       "<matplotlib.figure.Figure at 0x112c06d8>"
      ]
     },
     "metadata": {},
     "output_type": "display_data"
    }
   ],
   "source": [
    "total = float(len(df))\n",
    "sns.set(font_scale = 1.3)\n",
    "ax = sns.countplot(x=\"stars\",data=df)\n",
    "for p in ax.patches:\n",
    "    height = p.get_height()\n",
    "    ax.text(p.get_x()+p.get_width()/2.,\n",
    "            height + 100,\n",
    "            '{:1.2f}%'.format(height*100/total),\n",
    "            ha=\"center\")\n",
    "plt.show()"
   ]
  },
  {
   "cell_type": "markdown",
   "metadata": {},
   "source": [
    "We next check for any missing data or unusually large data, which could cause problems when running machine learning algorithms"
   ]
  },
  {
   "cell_type": "code",
   "execution_count": 28,
   "metadata": {},
   "outputs": [
    {
     "data": {
      "text/plain": [
       "False"
      ]
     },
     "execution_count": 28,
     "metadata": {},
     "output_type": "execute_result"
    }
   ],
   "source": [
    "#Any missing data?\n",
    "df.isnull().values.any()"
   ]
  },
  {
   "cell_type": "code",
   "execution_count": 29,
   "metadata": {},
   "outputs": [
    {
     "data": {
      "text/plain": [
       "False"
      ]
     },
     "execution_count": 29,
     "metadata": {},
     "output_type": "execute_result"
    }
   ],
   "source": [
    "#Any infinities?\n",
    "import numpy as np\n",
    "np.isinf(df.values).any()"
   ]
  },
  {
   "cell_type": "markdown",
   "metadata": {},
   "source": [
    "As can be seen in the above two steps, there is no missing data. All the missing data was already imputed in the data collection and preprocessing stage. Now our data, correctly sampled, is ready to be used for machine learning algorithms. Following are the columns that we are going to be using."
   ]
  },
  {
   "cell_type": "code",
   "execution_count": 30,
   "metadata": {},
   "outputs": [
    {
     "data": {
      "text/plain": [
       "array(['cool', 'funny', 'stars', 'useful', 'fans', 'user_cool',\n",
       "       'user_funny', 'user_useful', 'polarity', 'subjectivity'], dtype=object)"
      ]
     },
     "execution_count": 30,
     "metadata": {},
     "output_type": "execute_result"
    }
   ],
   "source": [
    "# Features of the sampled dataset\n",
    "df.columns.values"
   ]
  },
  {
   "cell_type": "markdown",
   "metadata": {},
   "source": [
    "We make use of the 'Scikit-Learn' package of python to perform lasso and ordinary least squares. Our data is first split into the input and the response variables. Each of these sets are further divided for training and testing - 75% for training and 25% for testing"
   ]
  },
  {
   "cell_type": "code",
   "execution_count": 31,
   "metadata": {},
   "outputs": [],
   "source": [
    "from sklearn import datasets, linear_model\n",
    "from sklearn.linear_model import Lasso, LassoCV\n",
    "from sklearn.preprocessing import PolynomialFeatures\n",
    "from sklearn.model_selection import train_test_split\n",
    "from matplotlib import pyplot as plt\n",
    "import statsmodels.api as sm\n",
    "import random\n",
    "\n",
    "#Splitting the data into input and the response data\n",
    "np.random.seed(100)\n",
    "data_x = pd.DataFrame(df, columns = ['cool', 'funny', 'useful', 'fans', 'user_cool', \n",
    "                                       'user_funny', 'user_useful', 'polarity', 'subjectivity'])\n",
    "data_y = pd.DataFrame(df, columns = ['stars'])"
   ]
  },
  {
   "cell_type": "code",
   "execution_count": 32,
   "metadata": {},
   "outputs": [
    {
     "name": "stdout",
     "output_type": "stream",
     "text": [
      "Training data shape for input and response data (13125, 9) (13125, 1)\n",
      "Testing data shape for input and response data (4375, 9) (4375, 1)\n"
     ]
    }
   ],
   "source": [
    "#splitting input data into training and testing\n",
    "random.seed(100)\n",
    "X_train, X_test, y_train, y_test = train_test_split(data_x, data_y, test_size=0.25)\n",
    "print \"Training data shape for input and response data\",X_train.shape, y_train.shape\n",
    "print \"Testing data shape for input and response data\",X_test.shape, y_test.shape\n"
   ]
  },
  {
   "cell_type": "markdown",
   "metadata": {},
   "source": [
    "Lasso is a technique which reduces the number of features we will be using for computing a linear model, by penalizing large coefficients, and making zero the coefficients of predictors which are not very useful. The penalty term $$\\alpha$$ has to be fine-tuned to find the best lasso model, which reduces our error the most. We make use of k-cross validation, k = 10, to find this penalty term."
   ]
  },
  {
   "cell_type": "code",
   "execution_count": 33,
   "metadata": {},
   "outputs": [
    {
     "name": "stderr",
     "output_type": "stream",
     "text": [
      "C:\\Users\\Mihin Sumaria\\Anaconda3\\envs\\py27\\lib\\site-packages\\ipykernel_launcher.py:7: UserWarning: With alpha=0, this algorithm does not converge well. You are advised to use the LinearRegression estimator\n",
      "  import sys\n",
      "C:\\Users\\Mihin Sumaria\\Anaconda3\\envs\\py27\\lib\\site-packages\\sklearn\\linear_model\\coordinate_descent.py:470: UserWarning: Coordinate descent with alpha=0 may lead to unexpected results and is discouraged.\n",
      "  positive)\n",
      "C:\\Users\\Mihin Sumaria\\Anaconda3\\envs\\py27\\lib\\site-packages\\sklearn\\linear_model\\coordinate_descent.py:484: ConvergenceWarning: Objective did not converge. You might want to increase the number of iterations. Fitting data with very small alpha may cause precision problems.\n",
      "  ConvergenceWarning)\n",
      "C:\\Users\\Mihin Sumaria\\Anaconda3\\envs\\py27\\lib\\site-packages\\sklearn\\linear_model\\coordinate_descent.py:1082: DataConversionWarning: A column-vector y was passed when a 1d array was expected. Please change the shape of y to (n_samples, ), for example using ravel().\n",
      "  y = column_or_1d(y, warn=True)\n"
     ]
    },
    {
     "name": "stdout",
     "output_type": "stream",
     "text": [
      "(0.0, array([  1.78904419e-01,  -4.27631649e-02,  -2.08460866e-02,\n",
      "         1.43329912e-03,   7.53465739e-05,  -1.20608789e-04,\n",
      "        -3.53647511e-05,   3.66139079e+00,   6.63051239e-01]))\n",
      "(0.1111111111111111, array([  1.42251284e-02,  -1.47585352e-02,  -1.42078840e-02,\n",
      "         2.68444648e-03,   5.53281833e-05,  -6.86809235e-05,\n",
      "        -1.53121015e-05,   1.54771952e+00,   0.00000000e+00]))\n",
      "(0.22222222222222221, array([  0.00000000e+00,  -0.00000000e+00,  -1.58857125e-02,\n",
      "         2.42813030e-03,   7.54432392e-05,  -1.00299458e-04,\n",
      "        -1.69044680e-06,   0.00000000e+00,   0.00000000e+00]))\n",
      "(0.33333333333333331, array([  0.00000000e+00,  -0.00000000e+00,  -1.38613412e-02,\n",
      "         1.96313218e-03,   7.69796407e-05,  -9.53456594e-05,\n",
      "        -0.00000000e+00,   0.00000000e+00,   0.00000000e+00]))\n",
      "(0.44444444444444442, array([  0.00000000e+00,  -0.00000000e+00,  -1.18366184e-02,\n",
      "         1.49992634e-03,   8.00951146e-05,  -9.00049786e-05,\n",
      "        -0.00000000e+00,   0.00000000e+00,   0.00000000e+00]))\n",
      "(0.55555555555555558, array([  0.00000000e+00,  -0.00000000e+00,  -9.81189867e-03,\n",
      "         1.03673830e-03,   8.32062720e-05,  -8.46593421e-05,\n",
      "         0.00000000e+00,   0.00000000e+00,   0.00000000e+00]))\n",
      "(0.66666666666666663, array([  0.00000000e+00,  -0.00000000e+00,  -7.78718161e-03,\n",
      "         5.73566137e-04,   8.63135835e-05,  -7.93092904e-05,\n",
      "         0.00000000e+00,   0.00000000e+00,   0.00000000e+00]))\n",
      "(0.77777777777777768, array([  0.00000000e+00,  -0.00000000e+00,  -5.76246752e-03,\n",
      "         1.10411343e-04,   8.94166958e-05,  -7.39544189e-05,\n",
      "         0.00000000e+00,   0.00000000e+00,   0.00000000e+00]))\n",
      "(0.88888888888888884, array([  0.00000000e+00,  -0.00000000e+00,  -3.75603692e-03,\n",
      "         0.00000000e+00,   8.75677496e-05,  -7.00214690e-05,\n",
      "         0.00000000e+00,   0.00000000e+00,   0.00000000e+00]))\n",
      "(1.0, array([  0.00000000e+00,  -0.00000000e+00,  -1.75534812e-03,\n",
      "         0.00000000e+00,   8.41476221e-05,  -6.65074390e-05,\n",
      "         0.00000000e+00,   0.00000000e+00,   0.00000000e+00]))\n",
      "('Best alpha', 0.016410242873469372)\n",
      "('Best coefficient', array([  1.55840546e-01,  -3.90019839e-02,  -2.01887390e-02,\n",
      "         1.62620499e-03,   7.15103908e-05,  -1.18584846e-04,\n",
      "        -2.86495571e-05,   3.40648298e+00,   0.00000000e+00]))\n",
      "('Non-zero coeficients number is ', 8)\n"
     ]
    },
    {
     "data": {
      "image/png": "[encoded data removed]",
      "text/plain": [
       "<matplotlib.figure.Figure at 0x1088d860>"
      ]
     },
     "metadata": {},
     "output_type": "display_data"
    }
   ],
   "source": [
    "#Lasso cross validation\n",
    "alphas = np.linspace(0,1, 10)\n",
    "scores = np.empty_like(alphas)\n",
    "for i,a in enumerate(alphas):\n",
    "    lasso = linear_model.Lasso()\n",
    "    lasso.set_params(alpha=a)\n",
    "    lasso.fit(X_train, y_train)\n",
    "    scores[i] = lasso.score(X_train, y_train)\n",
    "    print(a, lasso.coef_)\n",
    "    \n",
    "lassocv = linear_model.LassoCV()\n",
    "lassocv.fit(X_train, y_train)\n",
    "lassocv_score = lassocv.score(X_train, y_train)\n",
    "lassocv_alpha = lassocv.alpha_\n",
    "print('Best alpha', lassocv.alpha_)\n",
    "print('Best coefficient', lassocv.coef_)\n",
    "print ('Non-zero coeficients number is ', sum(lassocv.coef_ != 0))\n",
    "\n",
    "\n",
    "plt.plot(alphas, scores, '-ko')\n",
    "plt.axhline(lassocv_score, color='b', ls='--')\n",
    "plt.axvline(lassocv_alpha, color='b', ls='--')\n",
    "plt.xlabel(r'$\\alpha$')\n",
    "plt.ylabel('Score')\n",
    "plt.title('Lasso for Alpha')\n",
    "plt.show()\n",
    "\n",
    "\n",
    "prediction_lasso = np.array([item*lassocv.coef_[0] for item in X_test.cool]) + np.array([item*lassocv.coef_[1] for item in X_test.funny]) +np.array([item*lassocv.coef_[2] for item in X_test.useful]) + np.array([item*lassocv.coef_[3] for item in X_test.fans]) + np.array([item*lassocv.coef_[4] for item in X_test.user_cool]) + np.array([item*lassocv.coef_[5] for item in X_test.user_funny]) +np.array([item*lassocv.coef_[6] for item in X_test.user_useful]) + np.array([item*lassocv.coef_[7] for item in X_test.polarity]) +np.array([item*lassocv.coef_[8] for item in X_test.subjectivity])\n"
   ]
  },
  {
   "cell_type": "markdown",
   "metadata": {},
   "source": [
    "As shown above, we make use of the coefficients associated to the best alpha, i.e. the alpha which gives us the smallest cross-validation error, to predict the ratings."
   ]
  },
  {
   "cell_type": "code",
   "execution_count": 37,
   "metadata": {},
   "outputs": [
    {
     "data": {
      "text/plain": [
       "5.28035644421636"
      ]
     },
     "execution_count": 37,
     "metadata": {},
     "output_type": "execute_result"
    }
   ],
   "source": [
    "from sklearn import metrics\n",
    "np.around(prediction_lasso,decimals=0)\n",
    "prediction_lasso[prediction_lasso>5] = 5\n",
    "prediction_lasso[prediction_lasso<1] = 1\n",
    "metrics.mean_squared_error(y_test, prediction_lasso)"
   ]
  },
  {
   "cell_type": "markdown",
   "metadata": {},
   "source": [
    "We compute Root Mean Squared Error (RMSE) based on rounded off predictions to find the accuracy of our model. Turns out, that Lasso gives us a very high error metric of 5.28, which is not good at all for predicting reviews.\n",
    "\n",
    "We now perform ordinary least squares, and check the P-value of each variable to decide which variable to use, and which not to."
   ]
  },
  {
   "cell_type": "code",
   "execution_count": 38,
   "metadata": {},
   "outputs": [
    {
     "data": {
      "text/html": [
       "<table class=\"simpletable\">\n",
       "<caption>OLS Regression Results</caption>\n",
       "<tr>\n",
       "  <th>Dep. Variable:</th>          <td>stars</td>      <th>  R-squared:         </th> <td>   0.867</td> \n",
       "</tr>\n",
       "<tr>\n",
       "  <th>Model:</th>                   <td>OLS</td>       <th>  Adj. R-squared:    </th> <td>   0.867</td> \n",
       "</tr>\n",
       "<tr>\n",
       "  <th>Method:</th>             <td>Least Squares</td>  <th>  F-statistic:       </th> <td>   9486.</td> \n",
       "</tr>\n",
       "<tr>\n",
       "  <th>Date:</th>             <td>Wed, 21 Feb 2018</td> <th>  Prob (F-statistic):</th>  <td>  0.00</td>  \n",
       "</tr>\n",
       "<tr>\n",
       "  <th>Time:</th>                 <td>14:28:49</td>     <th>  Log-Likelihood:    </th> <td> -21130.</td> \n",
       "</tr>\n",
       "<tr>\n",
       "  <th>No. Observations:</th>      <td> 13125</td>      <th>  AIC:               </th> <td>4.228e+04</td>\n",
       "</tr>\n",
       "<tr>\n",
       "  <th>Df Residuals:</th>          <td> 13116</td>      <th>  BIC:               </th> <td>4.235e+04</td>\n",
       "</tr>\n",
       "<tr>\n",
       "  <th>Df Model:</th>              <td>     9</td>      <th>                     </th>     <td> </td>    \n",
       "</tr>\n",
       "<tr>\n",
       "  <th>Covariance Type:</th>      <td>nonrobust</td>    <th>                     </th>     <td> </td>    \n",
       "</tr>\n",
       "</table>\n",
       "<table class=\"simpletable\">\n",
       "<tr>\n",
       "        <td></td>          <th>coef</th>     <th>std err</th>      <th>t</th>      <th>P>|t|</th>  <th>[0.025</th>    <th>0.975]</th>  \n",
       "</tr>\n",
       "<tr>\n",
       "  <th>cool</th>         <td>    0.1821</td> <td>    0.014</td> <td>   13.220</td> <td> 0.000</td> <td>    0.155</td> <td>    0.209</td>\n",
       "</tr>\n",
       "<tr>\n",
       "  <th>funny</th>        <td>   -0.0314</td> <td>    0.005</td> <td>   -6.107</td> <td> 0.000</td> <td>   -0.042</td> <td>   -0.021</td>\n",
       "</tr>\n",
       "<tr>\n",
       "  <th>useful</th>       <td>   -0.0160</td> <td>    0.002</td> <td>   -9.282</td> <td> 0.000</td> <td>   -0.019</td> <td>   -0.013</td>\n",
       "</tr>\n",
       "<tr>\n",
       "  <th>fans</th>         <td>    0.0030</td> <td>    0.001</td> <td>    4.458</td> <td> 0.000</td> <td>    0.002</td> <td>    0.004</td>\n",
       "</tr>\n",
       "<tr>\n",
       "  <th>user_cool</th>    <td> 2.618e-05</td> <td> 5.45e-05</td> <td>    0.480</td> <td> 0.631</td> <td>-8.07e-05</td> <td>    0.000</td>\n",
       "</tr>\n",
       "<tr>\n",
       "  <th>user_funny</th>   <td>   -0.0001</td> <td> 5.96e-05</td> <td>   -1.773</td> <td> 0.076</td> <td>   -0.000</td> <td> 1.12e-05</td>\n",
       "</tr>\n",
       "<tr>\n",
       "  <th>user_useful</th>  <td>-1.282e-05</td> <td>  3.5e-05</td> <td>   -0.366</td> <td> 0.714</td> <td>-8.15e-05</td> <td> 5.58e-05</td>\n",
       "</tr>\n",
       "<tr>\n",
       "  <th>polarity</th>     <td>    3.6810</td> <td>    0.048</td> <td>   76.116</td> <td> 0.000</td> <td>    3.586</td> <td>    3.776</td>\n",
       "</tr>\n",
       "<tr>\n",
       "  <th>subjectivity</th> <td>    4.1755</td> <td>    0.025</td> <td>  167.351</td> <td> 0.000</td> <td>    4.127</td> <td>    4.224</td>\n",
       "</tr>\n",
       "</table>\n",
       "<table class=\"simpletable\">\n",
       "<tr>\n",
       "  <th>Omnibus:</th>       <td>111.809</td> <th>  Durbin-Watson:     </th> <td>   1.981</td>\n",
       "</tr>\n",
       "<tr>\n",
       "  <th>Prob(Omnibus):</th> <td> 0.000</td>  <th>  Jarque-Bera (JB):  </th> <td> 134.058</td>\n",
       "</tr>\n",
       "<tr>\n",
       "  <th>Skew:</th>          <td> 0.161</td>  <th>  Prob(JB):          </th> <td>7.76e-30</td>\n",
       "</tr>\n",
       "<tr>\n",
       "  <th>Kurtosis:</th>      <td> 3.377</td>  <th>  Cond. No.          </th> <td>5.11e+03</td>\n",
       "</tr>\n",
       "</table>"
      ],
      "text/plain": [
       "<class 'statsmodels.iolib.summary.Summary'>\n",
       "\"\"\"\n",
       "                            OLS Regression Results                            \n",
       "==============================================================================\n",
       "Dep. Variable:                  stars   R-squared:                       0.867\n",
       "Model:                            OLS   Adj. R-squared:                  0.867\n",
       "Method:                 Least Squares   F-statistic:                     9486.\n",
       "Date:                Wed, 21 Feb 2018   Prob (F-statistic):               0.00\n",
       "Time:                        14:28:49   Log-Likelihood:                -21130.\n",
       "No. Observations:               13125   AIC:                         4.228e+04\n",
       "Df Residuals:                   13116   BIC:                         4.235e+04\n",
       "Df Model:                           9                                         \n",
       "Covariance Type:            nonrobust                                         \n",
       "================================================================================\n",
       "                   coef    std err          t      P>|t|      [0.025      0.975]\n",
       "--------------------------------------------------------------------------------\n",
       "cool             0.1821      0.014     13.220      0.000       0.155       0.209\n",
       "funny           -0.0314      0.005     -6.107      0.000      -0.042      -0.021\n",
       "useful          -0.0160      0.002     -9.282      0.000      -0.019      -0.013\n",
       "fans             0.0030      0.001      4.458      0.000       0.002       0.004\n",
       "user_cool     2.618e-05   5.45e-05      0.480      0.631   -8.07e-05       0.000\n",
       "user_funny      -0.0001   5.96e-05     -1.773      0.076      -0.000    1.12e-05\n",
       "user_useful  -1.282e-05    3.5e-05     -0.366      0.714   -8.15e-05    5.58e-05\n",
       "polarity         3.6810      0.048     76.116      0.000       3.586       3.776\n",
       "subjectivity     4.1755      0.025    167.351      0.000       4.127       4.224\n",
       "==============================================================================\n",
       "Omnibus:                      111.809   Durbin-Watson:                   1.981\n",
       "Prob(Omnibus):                  0.000   Jarque-Bera (JB):              134.058\n",
       "Skew:                           0.161   Prob(JB):                     7.76e-30\n",
       "Kurtosis:                       3.377   Cond. No.                     5.11e+03\n",
       "==============================================================================\n",
       "\n",
       "Warnings:\n",
       "[1] Standard Errors assume that the covariance matrix of the errors is correctly specified.\n",
       "[2] The condition number is large, 5.11e+03. This might indicate that there are\n",
       "strong multicollinearity or other numerical problems.\n",
       "\"\"\""
      ]
     },
     "execution_count": 38,
     "metadata": {},
     "output_type": "execute_result"
    }
   ],
   "source": [
    "# linear regression\n",
    "data_ols_x = pd.DataFrame(df, columns = ['cool', 'funny', 'useful', 'fans', 'user_cool','user_funny', 'user_useful', 'polarity', 'subjectivity'])\n",
    "np.random.seed(100)\n",
    "X_train, X_test, y_train, y_test = train_test_split(data_ols_x, data_y, test_size=0.25)\n",
    "\n",
    "\n",
    "# Note the difference in argument order\n",
    "model = sm.OLS(y_train, X_train).fit()\n",
    "predictions = model.predict(X_test) # make the predictions by the model\n",
    "\n",
    "# Print out the statistics\n",
    "model.summary()"
   ]
  },
  {
   "cell_type": "markdown",
   "metadata": {},
   "source": [
    "As can be seen above, the p-values for user related metrics are all beyond the p-value threshold of 0.05. We will consider dropping these for the next model."
   ]
  },
  {
   "cell_type": "code",
   "execution_count": 39,
   "metadata": {},
   "outputs": [
    {
     "data": {
      "text/plain": [
       "1.3710136876656491"
      ]
     },
     "execution_count": 39,
     "metadata": {},
     "output_type": "execute_result"
    }
   ],
   "source": [
    "np.around(predictions,decimals=0)\n",
    "predictions[predictions>5] = 5\n",
    "predictions[predictions<1] = 1\n",
    "metrics.mean_squared_error(y_test, predictions)"
   ]
  },
  {
   "cell_type": "markdown",
   "metadata": {},
   "source": [
    "Now that we have dropped the user-related variables, we perform OLS again, and check the increase in Adjusted-R-Squared value to see if our model is doing better than before."
   ]
  },
  {
   "cell_type": "code",
   "execution_count": 40,
   "metadata": {},
   "outputs": [
    {
     "data": {
      "text/html": [
       "<table class=\"simpletable\">\n",
       "<caption>OLS Regression Results</caption>\n",
       "<tr>\n",
       "  <th>Dep. Variable:</th>          <td>stars</td>      <th>  R-squared:         </th> <td>   0.867</td> \n",
       "</tr>\n",
       "<tr>\n",
       "  <th>Model:</th>                   <td>OLS</td>       <th>  Adj. R-squared:    </th> <td>   0.867</td> \n",
       "</tr>\n",
       "<tr>\n",
       "  <th>Method:</th>             <td>Least Squares</td>  <th>  F-statistic:       </th> <td>1.422e+04</td>\n",
       "</tr>\n",
       "<tr>\n",
       "  <th>Date:</th>             <td>Wed, 21 Feb 2018</td> <th>  Prob (F-statistic):</th>  <td>  0.00</td>  \n",
       "</tr>\n",
       "<tr>\n",
       "  <th>Time:</th>                 <td>14:32:00</td>     <th>  Log-Likelihood:    </th> <td> -21136.</td> \n",
       "</tr>\n",
       "<tr>\n",
       "  <th>No. Observations:</th>      <td> 13125</td>      <th>  AIC:               </th> <td>4.228e+04</td>\n",
       "</tr>\n",
       "<tr>\n",
       "  <th>Df Residuals:</th>          <td> 13119</td>      <th>  BIC:               </th> <td>4.233e+04</td>\n",
       "</tr>\n",
       "<tr>\n",
       "  <th>Df Model:</th>              <td>     6</td>      <th>                     </th>     <td> </td>    \n",
       "</tr>\n",
       "<tr>\n",
       "  <th>Covariance Type:</th>      <td>nonrobust</td>    <th>                     </th>     <td> </td>    \n",
       "</tr>\n",
       "</table>\n",
       "<table class=\"simpletable\">\n",
       "<tr>\n",
       "        <td></td>          <th>coef</th>     <th>std err</th>      <th>t</th>      <th>P>|t|</th>  <th>[0.025</th>    <th>0.975]</th>  \n",
       "</tr>\n",
       "<tr>\n",
       "  <th>cool</th>         <td>    0.1745</td> <td>    0.014</td> <td>   12.878</td> <td> 0.000</td> <td>    0.148</td> <td>    0.201</td>\n",
       "</tr>\n",
       "<tr>\n",
       "  <th>funny</th>        <td>   -0.0315</td> <td>    0.005</td> <td>   -6.125</td> <td> 0.000</td> <td>   -0.042</td> <td>   -0.021</td>\n",
       "</tr>\n",
       "<tr>\n",
       "  <th>useful</th>       <td>   -0.0156</td> <td>    0.002</td> <td>   -9.047</td> <td> 0.000</td> <td>   -0.019</td> <td>   -0.012</td>\n",
       "</tr>\n",
       "<tr>\n",
       "  <th>fans</th>         <td>    0.0020</td> <td>    0.001</td> <td>    3.434</td> <td> 0.001</td> <td>    0.001</td> <td>    0.003</td>\n",
       "</tr>\n",
       "<tr>\n",
       "  <th>polarity</th>     <td>    3.6826</td> <td>    0.048</td> <td>   76.144</td> <td> 0.000</td> <td>    3.588</td> <td>    3.777</td>\n",
       "</tr>\n",
       "<tr>\n",
       "  <th>subjectivity</th> <td>    4.1796</td> <td>    0.025</td> <td>  168.498</td> <td> 0.000</td> <td>    4.131</td> <td>    4.228</td>\n",
       "</tr>\n",
       "</table>\n",
       "<table class=\"simpletable\">\n",
       "<tr>\n",
       "  <th>Omnibus:</th>       <td>111.509</td> <th>  Durbin-Watson:     </th> <td>   1.982</td>\n",
       "</tr>\n",
       "<tr>\n",
       "  <th>Prob(Omnibus):</th> <td> 0.000</td>  <th>  Jarque-Bera (JB):  </th> <td> 134.079</td>\n",
       "</tr>\n",
       "<tr>\n",
       "  <th>Skew:</th>          <td> 0.159</td>  <th>  Prob(JB):          </th> <td>7.68e-30</td>\n",
       "</tr>\n",
       "<tr>\n",
       "  <th>Kurtosis:</th>      <td> 3.379</td>  <th>  Cond. No.          </th> <td>    95.3</td>\n",
       "</tr>\n",
       "</table>"
      ],
      "text/plain": [
       "<class 'statsmodels.iolib.summary.Summary'>\n",
       "\"\"\"\n",
       "                            OLS Regression Results                            \n",
       "==============================================================================\n",
       "Dep. Variable:                  stars   R-squared:                       0.867\n",
       "Model:                            OLS   Adj. R-squared:                  0.867\n",
       "Method:                 Least Squares   F-statistic:                 1.422e+04\n",
       "Date:                Wed, 21 Feb 2018   Prob (F-statistic):               0.00\n",
       "Time:                        14:32:00   Log-Likelihood:                -21136.\n",
       "No. Observations:               13125   AIC:                         4.228e+04\n",
       "Df Residuals:                   13119   BIC:                         4.233e+04\n",
       "Df Model:                           6                                         \n",
       "Covariance Type:            nonrobust                                         \n",
       "================================================================================\n",
       "                   coef    std err          t      P>|t|      [0.025      0.975]\n",
       "--------------------------------------------------------------------------------\n",
       "cool             0.1745      0.014     12.878      0.000       0.148       0.201\n",
       "funny           -0.0315      0.005     -6.125      0.000      -0.042      -0.021\n",
       "useful          -0.0156      0.002     -9.047      0.000      -0.019      -0.012\n",
       "fans             0.0020      0.001      3.434      0.001       0.001       0.003\n",
       "polarity         3.6826      0.048     76.144      0.000       3.588       3.777\n",
       "subjectivity     4.1796      0.025    168.498      0.000       4.131       4.228\n",
       "==============================================================================\n",
       "Omnibus:                      111.509   Durbin-Watson:                   1.982\n",
       "Prob(Omnibus):                  0.000   Jarque-Bera (JB):              134.079\n",
       "Skew:                           0.159   Prob(JB):                     7.68e-30\n",
       "Kurtosis:                       3.379   Cond. No.                         95.3\n",
       "==============================================================================\n",
       "\n",
       "Warnings:\n",
       "[1] Standard Errors assume that the covariance matrix of the errors is correctly specified.\n",
       "\"\"\""
      ]
     },
     "execution_count": 40,
     "metadata": {},
     "output_type": "execute_result"
    }
   ],
   "source": [
    "# linear regression\n",
    "data_ols_x = pd.DataFrame(df, columns = ['cool', 'funny', 'useful', 'fans','polarity', 'subjectivity'])\n",
    "np.random.seed(100)\n",
    "X_train, X_test, y_train, y_test = train_test_split(data_ols_x, data_y, test_size=0.25)\n",
    "\n",
    "\n",
    "# Note the difference in argument order\n",
    "model = sm.OLS(y_train, X_train).fit()\n",
    "predictions = model.predict(X_test) # make the predictions by the model\n",
    "\n",
    "# Print out the statistics\n",
    "model.summary()"
   ]
  },
  {
   "cell_type": "markdown",
   "metadata": {},
   "source": [
    "There has been no significant increase in the R-Squared value, which means that the user-related metrics would have lead to overfitting."
   ]
  },
  {
   "cell_type": "code",
   "execution_count": 41,
   "metadata": {},
   "outputs": [
    {
     "data": {
      "text/plain": [
       "1.3722157328468485"
      ]
     },
     "execution_count": 41,
     "metadata": {},
     "output_type": "execute_result"
    }
   ],
   "source": [
    "np.around(predictions,decimals=0)\n",
    "predictions[predictions>5] = 5\n",
    "predictions[predictions<1] = 1\n",
    "metrics.mean_squared_error(y_test, predictions)"
   ]
  },
  {
   "cell_type": "markdown",
   "metadata": {},
   "source": [
    "We get comparable RMSE to when we used all the predictors. As compared to lasso, OLS did significantly better. Also our most important variables seem to be the following:\n",
    "\n",
    "* Polarity\n",
    "* Subjectivity\n",
    "* Review coolness\n",
    "\n",
    "These are positively correlated to the ratings, which means that higher these values, higher the rating.\n",
    "\n",
    "The following variables are negatively correlated to the ratings:\n",
    "* Review funniness\n",
    "* Review usefulness\n",
    "\n",
    "The higher these values, the lower the ratings are.\n",
    "\n",
    "We can interpret this in various ways\n",
    "\n",
    "We now perform polynomial regression to see if there is an underlying non-linear relationship that can be exploited."
   ]
  },
  {
   "cell_type": "code",
   "execution_count": 57,
   "metadata": {},
   "outputs": [
    {
     "data": {
      "image/png": "[encoded data removed]",
      "text/plain": [
       "<matplotlib.figure.Figure at 0x11788278>"
      ]
     },
     "metadata": {},
     "output_type": "display_data"
    }
   ],
   "source": [
    "# Polynomial Regression\n",
    "def PolynomialRegression(degree):\n",
    "    np.random.seed(10)\n",
    "    data_x = pd.DataFrame(df, columns = ['cool', 'funny', 'useful', 'fans', 'polarity','subjectivity'])\n",
    "\n",
    "    X_poly = PolynomialFeatures(degree = degree).fit_transform(data_x)\n",
    "\n",
    "    X_train, X_test, y_train, y_test = train_test_split(X_poly, data_y, test_size=0.25)\n",
    "\n",
    "    # create a Linear Regressor   \n",
    "    lin_regressor = linear_model.LinearRegression().fit(X_train, y_train)\n",
    "    y_preds = lin_regressor.predict(X_test)\n",
    "\n",
    "    # get the predictions\n",
    "\n",
    "    np.around(y_preds,decimals=0)\n",
    "    y_preds[y_preds>5] = 5\n",
    "    y_preds[y_preds<1] = 1\n",
    "\n",
    "    return metrics.mean_squared_error(y_test, y_preds)\n",
    "\n",
    "degrees = np.arange(1,7)\n",
    "RMSEs = [PolynomialRegression(degree) for degree in degrees]\n",
    "\n",
    "ax = sns.pointplot(x=degrees,y=RMSEs)\n",
    "ax.set(xlabel='Degree',ylabel='RMSE')\n",
    "plt.show()"
   ]
  },
  {
   "cell_type": "markdown",
   "metadata": {},
   "source": [
    "Initially, the RMSE decreases with increasing degree. This may be due to the fact that a more non-linear function may be good for mapping the underlying relationship of the factors. But as the degree increases, the model begins to overfit the given data, causing high RMSE. We get the best RMSE for degree = 3, which is about 1.14. "
   ]
  },
  {
   "cell_type": "markdown",
   "metadata": {},
   "source": [
    "# Results: summarize and visualize the results discovered from the analysis\n",
    "\n",
    "Please use figures, tables, or videos to communicate the results with the audience.\n"
   ]
  },
  {
   "cell_type": "code",
   "execution_count": 63,
   "metadata": {},
   "outputs": [
    {
     "name": "stdout",
     "output_type": "stream",
     "text": [
      "+------------------------+---------------+\n",
      "|      Method Used       | RMSE obtained |\n",
      "+------------------------+---------------+\n",
      "|         Lasso          | 5.28035644422 |\n",
      "| Ordinary Least Squares | 1.37221573285 |\n",
      "| Polynomial Regression  | 1.14738827266 |\n",
      "+------------------------+---------------+\n"
     ]
    },
    {
     "data": {
      "image/png": "[encoded data removed]",
      "text/plain": [
       "<matplotlib.figure.Figure at 0x13e10c18>"
      ]
     },
     "metadata": {},
     "output_type": "display_data"
    }
   ],
   "source": [
    "# Your code starts here\n",
    "#   Please add comments or text cells in between to explain the general idea of each block of the code.\n",
    "#   Please feel free to add more cells below this cell if necessary\n",
    "\n",
    "#!pip install prettytable\n",
    "from prettytable import PrettyTable\n",
    "comparison = PrettyTable()\n",
    "x = ['Lasso','Ordinary Least Squares','Polynomial Regression']\n",
    "y = [5.28035644421636,1.3722157328468485,PolynomialRegression(3)]\n",
    "comparison.add_column(\"Method Used\",x)\n",
    "comparison.add_column(\"RMSE obtained\",y)\n",
    "print comparison\n",
    "ax = sns.pointplot(x=x,y=y,color = '#bb3f3f')\n",
    "ax.set(xlabel = \"Method Used\",ylabel = \"RMSE obtained\")\n",
    "plt.show()"
   ]
  },
  {
   "cell_type": "markdown",
   "metadata": {},
   "source": [
    "From the above results and summaries, we can deduce that the following features come in handy in predicting the rating of a restaurant:\n",
    "\n",
    "* Polarity: Positively correlated, which means that the more positive the review, the higher the ratings could be.\n",
    "* Subjectivity: Positive reviews tend to be subjective in nature, and can mean higher ratings as well.\n",
    "* Coolness of the review: If a review is rated as cool, then it could be highlighting some of the cool aspects of the business, which can mean positive correlation the ratings.\n",
    "* Funniness of the review: If a review is rated as funny by peers, then it can hint towards sarcasm, or can be negative for the business overall.\n",
    "* Usefulness of the review: A review can be useful if it tells other users both pros and cons of a given business place, and can hint towards lower ratings as per the given observations\n",
    "\n",
    "We have been able to successfully predict ratings with a relatively low margin of error, which can be improved when we take into consideration more factors and larger samples. Also this problem can be considered a classification problem rather than a regression problem, which can give us different results."
   ]
  },
  {
   "cell_type": "markdown",
   "metadata": {},
   "source": [
    "*-----------------\n",
    "# Done\n",
    "\n",
    "All set! \n",
    "\n",
    "** What do you need to submit?**\n",
    "\n",
    "* **Notebook File**: Save this Jupyter notebook, and find the notebook file in your folder (for example, \"filename.ipynb\"). This is the file you need to submit. Please make sure all the plotted tables and figures are in the notebook. If you used \"jupyter notebook --pylab=inline\" to open the notebook, all the figures and tables should have shown up in the notebook.\n",
    "\n",
    "* **PPT Slides**: please prepare PPT slides (for 10 minutes' talk) to present about the case study . Each team present their case studies in class for 10 minutes.\n",
    "\n",
    "Please compress all the files in a zipped file.\n",
    "\n",
    "\n",
    "** How to submit: **\n",
    "\n",
    "        Please submit through Canvas, in the Assignment \"Case Study 2\".\n",
    "        \n",
    "** Note: Each team only needs to submit one submission in Canvas **"
   ]
  },
  {
   "cell_type": "markdown",
   "metadata": {},
   "source": [
    "\n",
    "# Peer-Review Grading Template:\n",
    "\n",
    "** Total Points: (100 points) ** Please don't worry about the absolute scores, we will rescale the final grading according to the performance of all teams in the class.\n",
    "\n",
    "Please add an \"**X**\" mark in front of your rating: \n",
    "\n",
    "For example:\n",
    "\n",
    "*2: bad*\n",
    "          \n",
    "**X** *3: good*\n",
    "    \n",
    "*4: perfect*\n",
    "\n",
    "\n",
    "    ---------------------------------\n",
    "    The Problem: \n",
    "    ---------------------------------\n",
    "    \n",
    "    1. (10 points) how well did the team describe the problem they are trying to solve using the data? \n",
    "       0: not clear\n",
    "       2: I can barely understand the problem\n",
    "       4: okay, can be improved\n",
    "       6: good, but can be improved\n",
    "       8: very good\n",
    "       10: crystal clear\n",
    "    \n",
    "    2. (10 points) do you think the problem is important or has a potential impact?\n",
    "        0: not important at all\n",
    "        2: not sure if it is important\n",
    "        4: seems important, but not clear\n",
    "        6: interesting problem\n",
    "        8: an important problem, which I want to know the answer myself\n",
    "       10: very important, I would be happy invest money on a project like this.\n",
    "    \n",
    "    ----------------------------------\n",
    "    Data Collection and Processing:\n",
    "    ----------------------------------\n",
    "    \n",
    "    3. (10 points) Do you think the data collected/processed are relevant and sufficient for solving the above problem? \n",
    "       0: not clear\n",
    "       2: I can barely understand what data they are trying to collect/process\n",
    "       4: I can barely understand why the data is relevant to the problem\n",
    "       6: the data are relevant to the problem, but better data can be collected\n",
    "       8: the data collected are relevant and at a proper scale\n",
    "      10: the data are properly collected and they are sufficient\n",
    "\n",
    "    -----------------------------------\n",
    "    Data Exploration:\n",
    "    -----------------------------------\n",
    "    4. How well did the team solve the following task:\n",
    "    \n",
    "    (1) Finding the most popular business categories (5 points):\n",
    "       0: missing answer\n",
    "       1: okay, but with major problems\n",
    "       3: good, but with minor problems\n",
    "       5: perfect\n",
    "    \n",
    "    (2) Find the most popular business objects (5 points)\n",
    "       0: missing answer\n",
    "       1: okay, but with major problems\n",
    "       3: good, but with minor problems\n",
    "       5: perfect\n",
    "    \n",
    "    -----------------------------------\n",
    "    The Solution\n",
    "    -----------------------------------\n",
    "    5.  how well did the team describe the solution they used to solve the problem? (10 points)\n",
    "       0: not clear\n",
    "       2: I can barely understand\n",
    "       4: okay, can be improved\n",
    "       6: good, but can be improved\n",
    "       8: very good\n",
    "       10: crystal clear\n",
    "       \n",
    "    6. how well is the solution in solving the problem? (10 points)\n",
    "       0: not relevant\n",
    "       2: barely relevant to the problem\n",
    "       4: okay solution, but there is an easier solution.\n",
    "       6: good, but can be improved\n",
    "       8: very good, but solution is simple/old\n",
    "       10: innovative and technically sound\n",
    "       \n",
    "    7. how well did the team implement the solution in python? (10 points)\n",
    "       0: the code is not relevant to the solution proposed\n",
    "       2: the code is barely understandable, but not relevant\n",
    "       4: okay, the code is clear but incorrect\n",
    "       6: good, the code is correct, but with major errors\n",
    "       8: very good, the code is correct, but with minor errors\n",
    "      10: perfect \n",
    "   \n",
    "    -----------------------------------\n",
    "    The Results\n",
    "    -----------------------------------\n",
    "     8.  How well did the team present the results they found in the data? (10 points)\n",
    "       0: not clear\n",
    "       2: I can barely understand\n",
    "       4: okay, can be improved\n",
    "       6: good, but can be improved\n",
    "       8: very good\n",
    "      10: crystal clear\n",
    "       \n",
    "     9.  How do you think of the results they found in the data?  (5 points)\n",
    "       0: not clear\n",
    "       1: likely to be wrong\n",
    "       2: okay, maybe wrong\n",
    "       3: good, but can be improved\n",
    "       4: make sense, but not interesting\n",
    "       5: make sense and very interesting\n",
    "     \n",
    "    -----------------------------------\n",
    "    The Presentation\n",
    "    -----------------------------------\n",
    "    10. How all the different parts (data, problem, solution, result) fit together as a coherent story?  \n",
    "       0: they are irrelevant\n",
    "       1: I can barely understand how they are related to each other\n",
    "       2: okay, the problem is good, but the solution doesn't match well, or the problem is not solvable.\n",
    "       3: good, but the results don't make much sense in the context\n",
    "       4: very good fit, but not exciting (the storyline can be improved/polished)\n",
    "       5: a perfect story\n",
    "      \n",
    "    11. Did the presenter make good use of the 10 minutes for presentation?  \n",
    "       0: the team didn't present\n",
    "       1: bad, barely finished a small part of the talk\n",
    "       2: okay, barely finished most parts of the talk.\n",
    "       3: good, finished all parts of the talk, but some part is rushed\n",
    "       4: very good, but the allocation of time on different parts can be improved.\n",
    "       5: perfect timing and good use of time      \n",
    "\n",
    "    12. How well do you think of the presentation (overall quality)?  \n",
    "       0: the team didn't present\n",
    "       1: bad\n",
    "       2: okay\n",
    "       3: good\n",
    "       4: very good\n",
    "       5: perfect\n",
    "\n",
    "\n",
    "    -----------------------------------\n",
    "    Overall: \n",
    "    -----------------------------------\n",
    "    13. How many points out of the 100 do you give to this project in total?  Please don't worry about the absolute scores, we will rescale the final grading according to the performance of all teams in the class.\n",
    "    Total score:\n",
    "    \n",
    "    14. What are the strengths of this project? Briefly, list up to 3 strengths.\n",
    "       1: \n",
    "       2:\n",
    "       3:\n",
    "    \n",
    "    15. What are the weaknesses of this project? Briefly, list up to 3 weaknesses.\n",
    "       1:\n",
    "       2:\n",
    "       3:\n",
    "    \n",
    "    16. Detailed comments and suggestions. What suggestions do you have for this project to improve its quality further.\n",
    "    \n",
    "    \n",
    "    \n",
    "\n",
    "    ---------------------------------\n",
    "    Your Vote: \n",
    "    ---------------------------------\n",
    "    1. [Overall Quality] Between the two submissions that you are reviewing, which team would you vote for a better score?  (5 bonus points)\n",
    "        0: I vote the other team is better than this team\n",
    "        5: I vote this team is better than the other team \n",
    "        \n",
    "    2. [Presentation] Among all the teams in the presentation, which team do you think deserves the best presentation award for this case study?  \n",
    "        1: Team 1\n",
    "        2: Team 2\n",
    "        3: Team 3\n",
    "        4: Team 4\n",
    "        5: Team 5\n",
    "        6: Team 6\n",
    "        7: Team 7\n",
    "        8: Team 8\n",
    "        9: Team 9\n",
    "\n",
    "\n"
   ]
  }
 ],
 "metadata": {
  "kernelspec": {
   "display_name": "Python 2",
   "language": "python",
   "name": "python2"
  },
  "language_info": {
   "codemirror_mode": {
    "name": "ipython",
    "version": 2
   },
   "file_extension": ".py",
   "mimetype": "text/x-python",
   "name": "python",
   "nbconvert_exporter": "python",
   "pygments_lexer": "ipython2",
   "version": "2.7.13"
  }
 },
 "nbformat": 4,
 "nbformat_minor": 1
}
